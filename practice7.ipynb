{
 "cells": [
  {
   "cell_type": "markdown",
   "id": "52658973",
   "metadata": {},
   "source": [
    "# for loop"
   ]
  },
  {
   "cell_type": "code",
   "execution_count": 1,
   "id": "9af01914",
   "metadata": {},
   "outputs": [
    {
     "name": "stdout",
     "output_type": "stream",
     "text": [
      "a c\n"
     ]
    }
   ],
   "source": [
    "l1=[\"a\",\"b\",\"c\",\"d\"]  #over list\n",
    "print(l1[0],l1[2])"
   ]
  },
  {
   "cell_type": "code",
   "execution_count": 2,
   "id": "81dc957d",
   "metadata": {},
   "outputs": [
    {
     "name": "stdout",
     "output_type": "stream",
     "text": [
      "a\n",
      "b\n",
      "c\n",
      "d\n"
     ]
    }
   ],
   "source": [
    "for item in l1:\n",
    "    print(item)"
   ]
  },
  {
   "cell_type": "code",
   "execution_count": 3,
   "id": "cfacfcbd",
   "metadata": {},
   "outputs": [
    {
     "name": "stdout",
     "output_type": "stream",
     "text": [
      "['a', 1]\n",
      "['b', 2]\n",
      "['c', 3]\n"
     ]
    }
   ],
   "source": [
    "l2=[[\"a\",1],[\"b\",2],[\"c\",3]]\n",
    "for item in l2:\n",
    "    print(item)"
   ]
  },
  {
   "cell_type": "code",
   "execution_count": 4,
   "id": "c582f536",
   "metadata": {},
   "outputs": [
    {
     "name": "stdout",
     "output_type": "stream",
     "text": [
      "a and f is 1\n",
      "b and f is 2\n",
      "c and f is 3\n"
     ]
    }
   ],
   "source": [
    "for item,e in l2:  #iteration\n",
    "    print(item,\"and f is\",e)\n",
    "    "
   ]
  },
  {
   "cell_type": "markdown",
   "id": "6fa5a4be",
   "metadata": {},
   "source": [
    "# while loop\n",
    "#condition true "
   ]
  },
  {
   "cell_type": "code",
   "execution_count": 5,
   "id": "3d692260",
   "metadata": {},
   "outputs": [
    {
     "name": "stdout",
     "output_type": "stream",
     "text": [
      "0\n",
      "1\n",
      "2\n",
      "3\n",
      "4\n",
      "5\n"
     ]
    }
   ],
   "source": [
    "i=0\n",
    "while(i<6):\n",
    "    print(i)\n",
    "    i=i+1"
   ]
  },
  {
   "cell_type": "code",
   "execution_count": 6,
   "id": "ce191948",
   "metadata": {},
   "outputs": [],
   "source": [
    "#same mechine level code "
   ]
  },
  {
   "cell_type": "markdown",
   "id": "6cbfc6c8",
   "metadata": {},
   "source": [
    "# break & continue statement"
   ]
  },
  {
   "cell_type": "code",
   "execution_count": 7,
   "id": "98c91d74",
   "metadata": {},
   "outputs": [
    {
     "name": "stdout",
     "output_type": "stream",
     "text": [
      "5 6 7 8 9 10 11 12 13 14 15 16 17 18 19 20 21 22 23 24 25 26 27 28 29 30 31 32 33 34 35 "
     ]
    }
   ],
   "source": [
    "i=0\n",
    "while(1): #nonstop\n",
    "    if i+1<5:\n",
    "        i=i+1\n",
    "        continue\n",
    "    print(i + 1, end=\" \")\n",
    "    if(i==34):\n",
    "        break #stop the loop\n",
    "    i=i+1\n"
   ]
  },
  {
   "cell_type": "code",
   "execution_count": 9,
   "id": "54ef09b2",
   "metadata": {},
   "outputs": [
    {
     "name": "stdout",
     "output_type": "stream",
     "text": [
      "enter a num :- 67\n",
      "try again\n",
      "enter a num :- 89\n",
      "try again\n",
      "enter a num :- 908\n",
      "cong\n"
     ]
    }
   ],
   "source": [
    "while(1):\n",
    "    inp=int(input(\"enter a num :- \"))\n",
    "    if inp>100:\n",
    "        print(\"cong\")\n",
    "        break\n",
    "    else:\n",
    "        print(\"try again\")\n",
    "        continue"
   ]
  },
  {
   "cell_type": "code",
   "execution_count": null,
   "id": "69980716",
   "metadata": {},
   "outputs": [],
   "source": []
  }
 ],
 "metadata": {
  "kernelspec": {
   "display_name": "Python 3",
   "language": "python",
   "name": "python3"
  },
  "language_info": {
   "codemirror_mode": {
    "name": "ipython",
    "version": 3
   },
   "file_extension": ".py",
   "mimetype": "text/x-python",
   "name": "python",
   "nbconvert_exporter": "python",
   "pygments_lexer": "ipython3",
   "version": "3.8.8"
  }
 },
 "nbformat": 4,
 "nbformat_minor": 5
}
