{
 "cells": [
  {
   "cell_type": "markdown",
   "id": "63e49729",
   "metadata": {},
   "source": [
    "# sets"
   ]
  },
  {
   "cell_type": "code",
   "execution_count": 1,
   "id": "1a8583be",
   "metadata": {},
   "outputs": [
    {
     "name": "stdout",
     "output_type": "stream",
     "text": [
      "<class 'set'>\n"
     ]
    }
   ],
   "source": [
    "s=set()\n",
    "print(type(s))"
   ]
  },
  {
   "cell_type": "code",
   "execution_count": 2,
   "id": "ed01d0b9",
   "metadata": {},
   "outputs": [
    {
     "name": "stdout",
     "output_type": "stream",
     "text": [
      "{8, 0, 4, 7}\n",
      "<class 'set'>\n"
     ]
    }
   ],
   "source": [
    "s_list=set([4,8,0,7])\n",
    "print(s_list)\n",
    "print(type(s_list))"
   ]
  },
  {
   "cell_type": "code",
   "execution_count": 3,
   "id": "a3f219ea",
   "metadata": {},
   "outputs": [
    {
     "name": "stdout",
     "output_type": "stream",
     "text": [
      "{9, 5, 78}\n"
     ]
    }
   ],
   "source": [
    "a=[5,78,9]\n",
    "s_list=set(a)\n",
    "print(s_list)"
   ]
  },
  {
   "cell_type": "code",
   "execution_count": 4,
   "id": "d4e5a01a",
   "metadata": {},
   "outputs": [
    {
     "name": "stdout",
     "output_type": "stream",
     "text": [
      "{1, 2, 3, 4}\n"
     ]
    }
   ],
   "source": [
    "l=[1,2,3,4]\n",
    "s=set(l)\n",
    "print(s)"
   ]
  },
  {
   "cell_type": "code",
   "execution_count": 5,
   "id": "52344351",
   "metadata": {},
   "outputs": [
    {
     "name": "stdout",
     "output_type": "stream",
     "text": [
      "{1, 2, 3, 4, 56}\n"
     ]
    }
   ],
   "source": [
    "s.add(56) # unique value return\n",
    "print(s)"
   ]
  },
  {
   "cell_type": "code",
   "execution_count": 6,
   "id": "e09feed4",
   "metadata": {},
   "outputs": [
    {
     "name": "stdout",
     "output_type": "stream",
     "text": [
      "{8, 9, 5, 7}\n"
     ]
    }
   ],
   "source": [
    "s={5,7,8,7,9}\n",
    "print(s)"
   ]
  },
  {
   "cell_type": "code",
   "execution_count": 7,
   "id": "1b36d761",
   "metadata": {},
   "outputs": [
    {
     "name": "stdout",
     "output_type": "stream",
     "text": [
      "{8, 9, 5, 7}\n"
     ]
    }
   ],
   "source": [
    "s.union\n",
    "print(s)"
   ]
  },
  {
   "cell_type": "code",
   "execution_count": 8,
   "id": "cba8b3c8",
   "metadata": {},
   "outputs": [
    {
     "name": "stdout",
     "output_type": "stream",
     "text": [
      "{8, 9, 5, 7}\n"
     ]
    }
   ],
   "source": [
    "s.union({5,7,8,7,9})\n",
    "print(s)"
   ]
  },
  {
   "cell_type": "code",
   "execution_count": 9,
   "id": "6d65b2a9",
   "metadata": {},
   "outputs": [
    {
     "name": "stdout",
     "output_type": "stream",
     "text": [
      "{8, 9, 5, 7} {5, 7, 8, 9, 56}\n"
     ]
    }
   ],
   "source": [
    "s1=s.union({5,8,56})\n",
    "print(s,s1)"
   ]
  },
  {
   "cell_type": "code",
   "execution_count": 10,
   "id": "cd47a185",
   "metadata": {},
   "outputs": [
    {
     "name": "stdout",
     "output_type": "stream",
     "text": [
      "{8, 9, 5, 7} {7}\n"
     ]
    }
   ],
   "source": [
    "s1=s.intersection({4,7,89})\n",
    "print(s,s1)"
   ]
  },
  {
   "cell_type": "code",
   "execution_count": 11,
   "id": "50cb0971",
   "metadata": {},
   "outputs": [
    {
     "name": "stdout",
     "output_type": "stream",
     "text": [
      "4\n"
     ]
    }
   ],
   "source": [
    "print(len(s))"
   ]
  },
  {
   "cell_type": "code",
   "execution_count": 12,
   "id": "b9eb6284",
   "metadata": {},
   "outputs": [
    {
     "name": "stdout",
     "output_type": "stream",
     "text": [
      "False\n"
     ]
    }
   ],
   "source": [
    "s1={5,8,56}\n",
    "print(s.isdisjoint(s1))"
   ]
  },
  {
   "cell_type": "code",
   "execution_count": 13,
   "id": "809ecf85",
   "metadata": {},
   "outputs": [
    {
     "name": "stdout",
     "output_type": "stream",
     "text": [
      "{9, 5, 7}\n"
     ]
    }
   ],
   "source": [
    "s.remove(8)\n",
    "print(s)"
   ]
  },
  {
   "cell_type": "markdown",
   "id": "4e34959c",
   "metadata": {},
   "source": [
    "# if else & elif conditionals"
   ]
  },
  {
   "cell_type": "code",
   "execution_count": 14,
   "id": "bffb7482",
   "metadata": {},
   "outputs": [
    {
     "name": "stdout",
     "output_type": "stream",
     "text": [
      "4\n",
      "greater\n"
     ]
    }
   ],
   "source": [
    "var1=56\n",
    "var2=3\n",
    "var3=int(input())\n",
    "if var3>var2:\n",
    "    print(\"greater\")\n",
    "else:\n",
    "    print(\"lesser\")"
   ]
  },
  {
   "cell_type": "code",
   "execution_count": 15,
   "id": "d6c8f22a",
   "metadata": {},
   "outputs": [
    {
     "name": "stdout",
     "output_type": "stream",
     "text": [
      "67\n",
      "greater\n",
      "lesser\n"
     ]
    }
   ],
   "source": [
    "var1=56\n",
    "var2=3\n",
    "var3=int(input())\n",
    "if var3>var2:\n",
    "    print(\"greater\")\n",
    "if var3==var2:\n",
    "    print(\"equal\")\n",
    "else:\n",
    "    print(\"lesser\")"
   ]
  },
  {
   "cell_type": "code",
   "execution_count": 16,
   "id": "3259d957",
   "metadata": {},
   "outputs": [
    {
     "name": "stdout",
     "output_type": "stream",
     "text": [
      "yes its in the list\n"
     ]
    }
   ],
   "source": [
    "l1=[4,6,9]\n",
    "if 6 in l1:\n",
    "    print(\"yes its in the list\")"
   ]
  },
  {
   "cell_type": "code",
   "execution_count": 17,
   "id": "8b9166ed",
   "metadata": {},
   "outputs": [
    {
     "name": "stdout",
     "output_type": "stream",
     "text": [
      "Enter your age:-34\n",
      "you can drive\n"
     ]
    }
   ],
   "source": [
    "age=int(input(\"Enter your age:-\"))\n",
    "if age<18:\n",
    "    print(\"you can't drive\")\n",
    "if age==18:\n",
    "    print(\"we will think about you\")\n",
    "else:\n",
    "    print(\"you can drive\")"
   ]
  },
  {
   "cell_type": "code",
   "execution_count": null,
   "id": "49bf7db9",
   "metadata": {},
   "outputs": [],
   "source": []
  }
 ],
 "metadata": {
  "kernelspec": {
   "display_name": "Python 3",
   "language": "python",
   "name": "python3"
  },
  "language_info": {
   "codemirror_mode": {
    "name": "ipython",
    "version": 3
   },
   "file_extension": ".py",
   "mimetype": "text/x-python",
   "name": "python",
   "nbconvert_exporter": "python",
   "pygments_lexer": "ipython3",
   "version": "3.8.8"
  }
 },
 "nbformat": 4,
 "nbformat_minor": 5
}
