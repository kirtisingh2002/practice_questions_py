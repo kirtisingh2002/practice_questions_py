{
 "cells": [
  {
   "cell_type": "code",
   "execution_count": 3,
   "id": "0cf524e9",
   "metadata": {},
   "outputs": [
    {
     "name": "stdout",
     "output_type": "stream",
     "text": [
      "hello\n"
     ]
    }
   ],
   "source": [
    "print(\"hello\")"
   ]
  },
  {
   "cell_type": "code",
   "execution_count": 4,
   "id": "5fccdf1c",
   "metadata": {},
   "outputs": [
    {
     "data": {
      "text/plain": [
       "101"
      ]
     },
     "execution_count": 4,
     "metadata": {},
     "output_type": "execute_result"
    }
   ],
   "source": [
    "20+56+25"
   ]
  },
  {
   "cell_type": "code",
   "execution_count": 5,
   "id": "d7aa6b66",
   "metadata": {},
   "outputs": [
    {
     "data": {
      "text/plain": [
       "4221"
      ]
     },
     "execution_count": 5,
     "metadata": {},
     "output_type": "execute_result"
    }
   ],
   "source": [
    "67*63"
   ]
  },
  {
   "cell_type": "code",
   "execution_count": 6,
   "id": "92933718",
   "metadata": {},
   "outputs": [
    {
     "data": {
      "text/plain": [
       "65"
      ]
     },
     "execution_count": 6,
     "metadata": {},
     "output_type": "execute_result"
    }
   ],
   "source": [
    "2*5+7+8*6"
   ]
  },
  {
   "cell_type": "code",
   "execution_count": 7,
   "id": "02b9bc76",
   "metadata": {},
   "outputs": [
    {
     "name": "stdout",
     "output_type": "stream",
     "text": [
      "subscribe\n"
     ]
    }
   ],
   "source": [
    "print(\"subscribe\")"
   ]
  },
  {
   "cell_type": "code",
   "execution_count": 8,
   "id": "226cbc49",
   "metadata": {},
   "outputs": [
    {
     "name": "stdout",
     "output_type": "stream",
     "text": [
      "now\n"
     ]
    }
   ],
   "source": [
    "print(\"now\")"
   ]
  },
  {
   "cell_type": "code",
   "execution_count": 10,
   "id": "4515e498",
   "metadata": {},
   "outputs": [
    {
     "name": "stdout",
     "output_type": "stream",
     "text": [
      "subscribe now\n"
     ]
    }
   ],
   "source": [
    "print(\"subscribe\",end=\" \")\n",
    "print(\"now\")"
   ]
  },
  {
   "cell_type": "code",
   "execution_count": 11,
   "id": "7e89cd64",
   "metadata": {},
   "outputs": [
    {
     "name": "stdout",
     "output_type": "stream",
     "text": [
      "c:\\harry\n"
     ]
    }
   ],
   "source": [
    "#Escape sequences\n",
    "print(\"c:\\harry\")"
   ]
  },
  {
   "cell_type": "code",
   "execution_count": 12,
   "id": "95754f00",
   "metadata": {},
   "outputs": [
    {
     "name": "stdout",
     "output_type": "stream",
     "text": [
      "c:\n",
      "arry\n"
     ]
    }
   ],
   "source": [
    "print(\"c:\\narry\")# forward \\n complete,\\\\backward \\n new line carch(es).."
   ]
  },
  {
   "cell_type": "code",
   "execution_count": 14,
   "id": "6d4d8ce6",
   "metadata": {},
   "outputs": [
    {
     "name": "stdout",
     "output_type": "stream",
     "text": [
      "c:\"w\n"
     ]
    }
   ],
   "source": [
    "print(\"c:\\\"w\")"
   ]
  },
  {
   "cell_type": "code",
   "execution_count": 15,
   "id": "476dabe1",
   "metadata": {},
   "outputs": [
    {
     "name": "stdout",
     "output_type": "stream",
     "text": [
      "one \n",
      " two\t\n"
     ]
    }
   ],
   "source": [
    "print(\"one \\n two\\t\")# \\t new tab"
   ]
  },
  {
   "cell_type": "code",
   "execution_count": null,
   "id": "4aab1e53",
   "metadata": {},
   "outputs": [],
   "source": []
  }
 ],
 "metadata": {
  "celltoolbar": "Attachments",
  "kernelspec": {
   "display_name": "Python 3",
   "language": "python",
   "name": "python3"
  },
  "language_info": {
   "codemirror_mode": {
    "name": "ipython",
    "version": 3
   },
   "file_extension": ".py",
   "mimetype": "text/x-python",
   "name": "python",
   "nbconvert_exporter": "python",
   "pygments_lexer": "ipython3",
   "version": "3.8.8"
  }
 },
 "nbformat": 4,
 "nbformat_minor": 5
}
