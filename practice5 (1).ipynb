{
 "cells": [
  {
   "cell_type": "markdown",
   "id": "6d0606c1",
   "metadata": {},
   "source": [
    "# list"
   ]
  },
  {
   "cell_type": "code",
   "execution_count": 1,
   "id": "51eb17fa",
   "metadata": {},
   "outputs": [
    {
     "name": "stdout",
     "output_type": "stream",
     "text": [
      "['red', 'black', 'blue', 'white', 'pink', 45, 8]\n"
     ]
    }
   ],
   "source": [
    "l1=[\"red\",\"black\",\"blue\",\"white\",\"pink\",45,8]\n",
    "print(l1)"
   ]
  },
  {
   "cell_type": "code",
   "execution_count": 2,
   "id": "3925e1a8",
   "metadata": {},
   "outputs": [
    {
     "name": "stdout",
     "output_type": "stream",
     "text": [
      "8\n"
     ]
    }
   ],
   "source": [
    "print(l1[6])"
   ]
  },
  {
   "cell_type": "code",
   "execution_count": 3,
   "id": "486d5ec0",
   "metadata": {},
   "outputs": [
    {
     "name": "stdout",
     "output_type": "stream",
     "text": [
      "56\n"
     ]
    }
   ],
   "source": [
    "num=[4,8,20,56,3,98]\n",
    "print(num[3])"
   ]
  },
  {
   "cell_type": "code",
   "execution_count": 4,
   "id": "04a3dd6f",
   "metadata": {},
   "outputs": [
    {
     "name": "stdout",
     "output_type": "stream",
     "text": [
      "None\n"
     ]
    }
   ],
   "source": [
    "print(num.sort())"
   ]
  },
  {
   "cell_type": "code",
   "execution_count": 5,
   "id": "53da9677",
   "metadata": {},
   "outputs": [
    {
     "name": "stdout",
     "output_type": "stream",
     "text": [
      "[98, 56, 20, 8, 4, 3]\n"
     ]
    }
   ],
   "source": [
    "num.sort()\n",
    "num.reverse()#original list change\n",
    "print(num)"
   ]
  },
  {
   "cell_type": "code",
   "execution_count": 6,
   "id": "606b77b6",
   "metadata": {},
   "outputs": [
    {
     "name": "stdout",
     "output_type": "stream",
     "text": [
      "8\n"
     ]
    }
   ],
   "source": [
    "print(num[3])"
   ]
  },
  {
   "cell_type": "code",
   "execution_count": 7,
   "id": "d5bd3910",
   "metadata": {},
   "outputs": [
    {
     "name": "stdout",
     "output_type": "stream",
     "text": [
      "[98, 56, 20, 8]\n"
     ]
    }
   ],
   "source": [
    "print(num[0:4])"
   ]
  },
  {
   "cell_type": "code",
   "execution_count": 8,
   "id": "e9847d6c",
   "metadata": {},
   "outputs": [
    {
     "name": "stdout",
     "output_type": "stream",
     "text": [
      "[4, 8, 89]\n"
     ]
    }
   ],
   "source": [
    "num=[4,8,89,34,0,3]\n",
    "print(num[0:3])"
   ]
  },
  {
   "cell_type": "code",
   "execution_count": 9,
   "id": "d5fa58c3",
   "metadata": {},
   "outputs": [
    {
     "name": "stdout",
     "output_type": "stream",
     "text": [
      "[3]\n"
     ]
    }
   ],
   "source": [
    "print(num[5:])"
   ]
  },
  {
   "cell_type": "code",
   "execution_count": 10,
   "id": "f15a176a",
   "metadata": {},
   "outputs": [
    {
     "name": "stdout",
     "output_type": "stream",
     "text": [
      "[89, 34]\n"
     ]
    }
   ],
   "source": [
    "print(num[2:4])"
   ]
  },
  {
   "cell_type": "code",
   "execution_count": 11,
   "id": "882b2568",
   "metadata": {},
   "outputs": [
    {
     "name": "stdout",
     "output_type": "stream",
     "text": [
      "[4, 8, 89, 34, 0, 3]\n"
     ]
    }
   ],
   "source": [
    "print(num)"
   ]
  },
  {
   "cell_type": "code",
   "execution_count": 12,
   "id": "301f3cc8",
   "metadata": {},
   "outputs": [
    {
     "name": "stdout",
     "output_type": "stream",
     "text": [
      "[3, 0, 34, 89, 8, 4]\n"
     ]
    }
   ],
   "source": [
    "print(num[::-1])"
   ]
  },
  {
   "cell_type": "code",
   "execution_count": 13,
   "id": "5d80bb62",
   "metadata": {},
   "outputs": [
    {
     "name": "stdout",
     "output_type": "stream",
     "text": [
      "[3, 8]\n"
     ]
    }
   ],
   "source": [
    "print(num[::-4])"
   ]
  },
  {
   "cell_type": "code",
   "execution_count": 14,
   "id": "ed7a0ebb",
   "metadata": {},
   "outputs": [
    {
     "name": "stdout",
     "output_type": "stream",
     "text": [
      "[8]\n"
     ]
    }
   ],
   "source": [
    "print(num[1:3:4])"
   ]
  },
  {
   "cell_type": "code",
   "execution_count": 15,
   "id": "a89bf348",
   "metadata": {},
   "outputs": [
    {
     "name": "stdout",
     "output_type": "stream",
     "text": [
      "6\n"
     ]
    }
   ],
   "source": [
    "print(len(num))"
   ]
  },
  {
   "cell_type": "code",
   "execution_count": 16,
   "id": "d347996d",
   "metadata": {},
   "outputs": [
    {
     "name": "stdout",
     "output_type": "stream",
     "text": [
      "0\n"
     ]
    }
   ],
   "source": [
    "print(min(num))"
   ]
  },
  {
   "cell_type": "code",
   "execution_count": 17,
   "id": "925d514e",
   "metadata": {},
   "outputs": [
    {
     "name": "stdout",
     "output_type": "stream",
     "text": [
      "[3, 6, 8, 9, 56]\n"
     ]
    }
   ],
   "source": [
    "num=[3,6,8,9]\n",
    "num.append(56)\n",
    "print(num)"
   ]
  },
  {
   "cell_type": "code",
   "execution_count": 18,
   "id": "64fede7d",
   "metadata": {},
   "outputs": [
    {
     "name": "stdout",
     "output_type": "stream",
     "text": [
      "[3, 6, 8, 9, 78, 56]\n"
     ]
    }
   ],
   "source": [
    "num.insert(4,78)\n",
    "print(num)"
   ]
  },
  {
   "cell_type": "markdown",
   "id": "cb759ce5",
   "metadata": {},
   "source": [
    "mutable=can change #list mutable\n",
    "non-mutable=cannot change #tuple immutable"
   ]
  },
  {
   "cell_type": "code",
   "execution_count": 19,
   "id": "f7bc6612",
   "metadata": {},
   "outputs": [
    {
     "name": "stdout",
     "output_type": "stream",
     "text": [
      "[3, 6, 8, 9, 78, 56]\n",
      "[3, 5, 8, 9, 78, 56]\n"
     ]
    }
   ],
   "source": [
    "print(num)\n",
    "num[1]=5\n",
    "print(num)"
   ]
  },
  {
   "cell_type": "code",
   "execution_count": 20,
   "id": "cfa6d5f8",
   "metadata": {},
   "outputs": [
    {
     "name": "stdout",
     "output_type": "stream",
     "text": [
      "(2, 67, 8)\n"
     ]
    }
   ],
   "source": [
    "tp=(2,67,8)\n",
    "print(tp)"
   ]
  },
  {
   "cell_type": "code",
   "execution_count": 21,
   "id": "a2171a8e",
   "metadata": {},
   "outputs": [
    {
     "name": "stdout",
     "output_type": "stream",
     "text": [
      "()\n"
     ]
    }
   ],
   "source": [
    "tp=()\n",
    "print(tp)"
   ]
  },
  {
   "cell_type": "code",
   "execution_count": 22,
   "id": "c639ef01",
   "metadata": {},
   "outputs": [
    {
     "name": "stdout",
     "output_type": "stream",
     "text": [
      "(5,)\n"
     ]
    }
   ],
   "source": [
    "tp=(5,)\n",
    "print(tp)"
   ]
  },
  {
   "cell_type": "code",
   "execution_count": 23,
   "id": "8445fd01",
   "metadata": {},
   "outputs": [
    {
     "name": "stdout",
     "output_type": "stream",
     "text": [
      "67 78\n"
     ]
    }
   ],
   "source": [
    "a=78\n",
    "b=67\n",
    "temp=a\n",
    "a=b\n",
    "b=temp\n",
    "print(a,b)"
   ]
  },
  {
   "cell_type": "code",
   "execution_count": 24,
   "id": "8cfa26f1",
   "metadata": {},
   "outputs": [
    {
     "name": "stdout",
     "output_type": "stream",
     "text": [
      "6 5\n"
     ]
    }
   ],
   "source": [
    "a=5\n",
    "b=6\n",
    "a,b=b,a\n",
    "print(a,b)"
   ]
  },
  {
   "cell_type": "markdown",
   "id": "3bd4d4a7",
   "metadata": {},
   "source": [
    "# Dictionary & its functions\n",
    "dictionary is nothing but key value pairs"
   ]
  },
  {
   "cell_type": "code",
   "execution_count": 25,
   "id": "32ca7790",
   "metadata": {},
   "outputs": [
    {
     "name": "stdout",
     "output_type": "stream",
     "text": [
      "<class 'dict'>\n"
     ]
    }
   ],
   "source": [
    "d1={}\n",
    "print(type(d1))"
   ]
  },
  {
   "cell_type": "code",
   "execution_count": 26,
   "id": "abcd1a48",
   "metadata": {},
   "outputs": [
    {
     "name": "stdout",
     "output_type": "stream",
     "text": [
      "cat\n"
     ]
    }
   ],
   "source": [
    "d1={\"a\":\"apple\",\"b\":\"boy\",\"c\":\"cat\",\"d\":\"dog\"}\n",
    "print(d1[\"c\"])"
   ]
  },
  {
   "cell_type": "code",
   "execution_count": 27,
   "id": "feb624eb",
   "metadata": {},
   "outputs": [
    {
     "name": "stdout",
     "output_type": "stream",
     "text": [
      "{'f': 'fish', 'm': 'milk'}\n"
     ]
    }
   ],
   "source": [
    "d1={\"a\":\"apple\",\"b\":\"boy\",\"c\":\"cat\",\"x\":{\"f\":\"fish\",\"m\":\"milk\"},\"d\":\"dog\"}\n",
    "print(d1[\"x\"])"
   ]
  },
  {
   "cell_type": "code",
   "execution_count": 28,
   "id": "17b2faaa",
   "metadata": {},
   "outputs": [
    {
     "name": "stdout",
     "output_type": "stream",
     "text": [
      "{'a': 'apple', 'b': 'boy', 'c': 'cat', 'x': {'f': 'fish', 'm': 'milk'}, 'd': 'dog', 'e': 'ear', '56': '65'}\n"
     ]
    }
   ],
   "source": [
    "d1[\"e\"]=\"ear\"\n",
    "d1[\"56\"]=\"65\"\n",
    "print(d1)"
   ]
  },
  {
   "cell_type": "code",
   "execution_count": 29,
   "id": "592a8074",
   "metadata": {},
   "outputs": [
    {
     "name": "stdout",
     "output_type": "stream",
     "text": [
      "{'a': 'apple', 'b': 'boy', 'c': 'cat', 'x': {'f': 'fish', 'm': 'milk'}, 'd': 'dog', 'e': 'ear'}\n"
     ]
    }
   ],
   "source": [
    "d1[\"e\"]=\"ear\"\n",
    "d1[\"56\"]=\"65\"\n",
    "del d1[\"56\"]\n",
    "print(d1)"
   ]
  },
  {
   "cell_type": "code",
   "execution_count": 30,
   "id": "0478a88f",
   "metadata": {},
   "outputs": [
    {
     "name": "stdout",
     "output_type": "stream",
     "text": [
      "{'a': 'apple', 'b': 'boy', 'c': 'cat', 'x': {'f': 'fish', 'm': 'milk'}, 'd': 'dog', 'e': 'ear'}\n"
     ]
    }
   ],
   "source": [
    "d2=d1\n",
    "print(d2)"
   ]
  },
  {
   "cell_type": "code",
   "execution_count": 31,
   "id": "4753b067",
   "metadata": {},
   "outputs": [
    {
     "name": "stdout",
     "output_type": "stream",
     "text": [
      "{'b': 'boy', 'c': 'cat', 'x': {'f': 'fish', 'm': 'milk'}, 'd': 'dog', 'e': 'ear'}\n"
     ]
    }
   ],
   "source": [
    "d3=d2.copy()\n",
    "del d3[\"a\"]\n",
    "print(d3)"
   ]
  },
  {
   "cell_type": "code",
   "execution_count": 32,
   "id": "ab90b4f8",
   "metadata": {},
   "outputs": [
    {
     "name": "stdout",
     "output_type": "stream",
     "text": [
      "cat\n"
     ]
    }
   ],
   "source": [
    "print(d1.get(\"c\"))"
   ]
  },
  {
   "cell_type": "code",
   "execution_count": 33,
   "id": "02f60d26",
   "metadata": {},
   "outputs": [
    {
     "name": "stdout",
     "output_type": "stream",
     "text": [
      "None\n"
     ]
    }
   ],
   "source": [
    "print(d1.update({\"f\":\"fox\"}))"
   ]
  },
  {
   "cell_type": "code",
   "execution_count": 34,
   "id": "a1194d87",
   "metadata": {},
   "outputs": [
    {
     "name": "stdout",
     "output_type": "stream",
     "text": [
      "{'a': 'apple', 'b': 'boy', 'c': 'cat', 'x': {'f': 'fish', 'm': 'milk'}, 'd': 'dog', 'e': 'ear', 'f': 'fox'}\n"
     ]
    }
   ],
   "source": [
    "d1.update({\"f\":\"fox\"})\n",
    "print(d2)"
   ]
  },
  {
   "cell_type": "code",
   "execution_count": 35,
   "id": "6666686c",
   "metadata": {},
   "outputs": [
    {
     "name": "stdout",
     "output_type": "stream",
     "text": [
      "dict_keys(['a', 'b', 'c', 'x', 'd', 'e', 'f'])\n"
     ]
    }
   ],
   "source": [
    "print(d1.keys())"
   ]
  },
  {
   "cell_type": "code",
   "execution_count": 36,
   "id": "50fc9179",
   "metadata": {},
   "outputs": [
    {
     "name": "stdout",
     "output_type": "stream",
     "text": [
      "dict_items([('a', 'apple'), ('b', 'boy'), ('c', 'cat'), ('x', {'f': 'fish', 'm': 'milk'}), ('d', 'dog'), ('e', 'ear'), ('f', 'fox')])\n"
     ]
    }
   ],
   "source": [
    "print(d1.items())"
   ]
  },
  {
   "cell_type": "code",
   "execution_count": null,
   "id": "7332ea54",
   "metadata": {},
   "outputs": [],
   "source": []
  },
  {
   "cell_type": "code",
   "execution_count": 37,
   "id": "ecb53027",
   "metadata": {},
   "outputs": [
    {
     "name": "stdout",
     "output_type": "stream",
     "text": [
      "{'a': 'apple', 'b': 'boy', 'c': 'cat', 'x': {'f': 'fish', 'm': 'milk'}, 'd': 'dog', 'e': 'ear', 'f': 'fox'}\n"
     ]
    }
   ],
   "source": [
    "print(d2.copy())"
   ]
  }
 ],
 "metadata": {
  "kernelspec": {
   "display_name": "Python 3",
   "language": "python",
   "name": "python3"
  },
  "language_info": {
   "codemirror_mode": {
    "name": "ipython",
    "version": 3
   },
   "file_extension": ".py",
   "mimetype": "text/x-python",
   "name": "python",
   "nbconvert_exporter": "python",
   "pygments_lexer": "ipython3",
   "version": "3.8.8"
  }
 },
 "nbformat": 4,
 "nbformat_minor": 5
}
