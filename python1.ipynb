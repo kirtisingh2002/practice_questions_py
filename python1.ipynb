{
 "cells": [
  {
   "cell_type": "markdown",
   "id": "b36f63f4",
   "metadata": {},
   "source": [
    "# variables"
   ]
  },
  {
   "cell_type": "code",
   "execution_count": 1,
   "id": "fedf19d5",
   "metadata": {},
   "outputs": [
    {
     "name": "stdout",
     "output_type": "stream",
     "text": [
      "hello \n"
     ]
    }
   ],
   "source": [
    "var1= \"hello \" #str\n",
    "var2= 5 #int\n",
    "var3= 34.9 # float\n",
    "print(var1)"
   ]
  },
  {
   "cell_type": "code",
   "execution_count": 4,
   "id": "e3409ac8",
   "metadata": {},
   "outputs": [
    {
     "name": "stdout",
     "output_type": "stream",
     "text": [
      "<class 'str'>\n",
      "<class 'float'>\n"
     ]
    }
   ],
   "source": [
    "var1= \"hello \" \n",
    "var2= 5 \n",
    "var3= 34.9 \n",
    "print(type(var1))\n",
    "print(type(var3))"
   ]
  },
  {
   "cell_type": "code",
   "execution_count": 5,
   "id": "e6db939d",
   "metadata": {},
   "outputs": [
    {
     "name": "stdout",
     "output_type": "stream",
     "text": [
      "39.9\n"
     ]
    }
   ],
   "source": [
    "var1= \"hello \" \n",
    "var2= 5 \n",
    "var3= 34.9 \n",
    "print(var2+var3)"
   ]
  },
  {
   "cell_type": "code",
   "execution_count": 7,
   "id": "f0260db7",
   "metadata": {},
   "outputs": [
    {
     "name": "stdout",
     "output_type": "stream",
     "text": [
      "hello world 56\n"
     ]
    }
   ],
   "source": [
    "var1= \"hello \" \n",
    "var2= 5 \n",
    "var3= 34.9 \n",
    "var4=\"world \"\n",
    "var5=\"56\"\n",
    "print(var1+var4+var5)\n"
   ]
  },
  {
   "cell_type": "markdown",
   "id": "7983975a",
   "metadata": {},
   "source": [
    "# typecasting"
   ]
  },
  {
   "cell_type": "code",
   "execution_count": 11,
   "id": "3a524a5d",
   "metadata": {},
   "outputs": [
    {
     "name": "stdout",
     "output_type": "stream",
     "text": [
      "101\n"
     ]
    }
   ],
   "source": [
    "var1= \"hello \" \n",
    "var2= 5 \n",
    "var3= 34.9 \n",
    "var4=\"world \"\n",
    "var5=\"56\"\n",
    "var6=\"45\"\n",
    "print(int(var5)+int(var6))"
   ]
  },
  {
   "cell_type": "code",
   "execution_count": 15,
   "id": "2fefb541",
   "metadata": {},
   "outputs": [
    {
     "name": "stdout",
     "output_type": "stream",
     "text": [
      "hello world \n",
      "hello world \n",
      "hello world \n",
      "hello world \n",
      "hello world \n",
      "hello world \n",
      "hello world \n",
      "hello world \n",
      "hello world \n",
      "hello world \n",
      "\n"
     ]
    }
   ],
   "source": [
    "print(10* \"hello world \\n\")"
   ]
  },
  {
   "cell_type": "code",
   "execution_count": 16,
   "id": "6762deaa",
   "metadata": {},
   "outputs": [
    {
     "name": "stdout",
     "output_type": "stream",
     "text": [
      "101.0\n"
     ]
    }
   ],
   "source": [
    "print(float(var5)+float(var6))"
   ]
  },
  {
   "cell_type": "code",
   "execution_count": 17,
   "id": "2d7688b2",
   "metadata": {},
   "outputs": [
    {
     "name": "stdout",
     "output_type": "stream",
     "text": [
      "534.9\n"
     ]
    }
   ],
   "source": [
    "print(str(var2)+str(var3))"
   ]
  },
  {
   "cell_type": "code",
   "execution_count": 21,
   "id": "a3a8b823",
   "metadata": {},
   "outputs": [
    {
     "name": "stdout",
     "output_type": "stream",
     "text": [
      "101101101101101101101101101101101101101101101101101101101101101101101101101101101101101101101101101101101101101101101101101101101101101101101101101101101101101101101101101101101101101101101101101101101101101101101101101101101101101101101101101101101101101101101101101101101101101101101101101101101101\n"
     ]
    }
   ],
   "source": [
    "print(100 * str (int(var5 )+ int(var6 ))) #int change str (mul)(vari use)"
   ]
  },
  {
   "cell_type": "markdown",
   "id": "43cd1b96",
   "metadata": {},
   "source": [
    "# user input\n"
   ]
  },
  {
   "cell_type": "code",
   "execution_count": 23,
   "id": "08af6599",
   "metadata": {},
   "outputs": [
    {
     "name": "stdout",
     "output_type": "stream",
     "text": [
      "enter your num:- \n",
      "45\n",
      "you entered 48\n"
     ]
    }
   ],
   "source": [
    "print(\"enter your num:- \")\n",
    "num=input()\n",
    "print(\"you entered\",int(num)+3 )"
   ]
  },
  {
   "cell_type": "code",
   "execution_count": 24,
   "id": "fded53e9",
   "metadata": {},
   "outputs": [
    {
     "name": "stdout",
     "output_type": "stream",
     "text": [
      "enter 1 num :-\n",
      "56\n",
      "enter 2 num:-\n",
      "34\n",
      "sum of these num 90\n"
     ]
    }
   ],
   "source": [
    "print(\"enter 1 num :-\")\n",
    "n1=input()\n",
    "print(\"enter 2 num:-\")\n",
    "n2=input()\n",
    "print(\"sum of these num\",int(n1)+int(n2))"
   ]
  },
  {
   "cell_type": "code",
   "execution_count": 25,
   "id": "ed1af2eb",
   "metadata": {},
   "outputs": [
    {
     "name": "stdout",
     "output_type": "stream",
     "text": [
      "enter the 1 num :-667\n",
      "enter the 2 num :-90\n",
      "subtract of these num 577\n"
     ]
    }
   ],
   "source": [
    "a=int(input(\"enter the 1 num :-\"))\n",
    "b=int(input(\"enter the 2 num :-\"))\n",
    "print(\"subtract of these num\",a-b)"
   ]
  },
  {
   "cell_type": "code",
   "execution_count": null,
   "id": "016ae5d7",
   "metadata": {},
   "outputs": [],
   "source": []
  }
 ],
 "metadata": {
  "kernelspec": {
   "display_name": "Python 3",
   "language": "python",
   "name": "python3"
  },
  "language_info": {
   "codemirror_mode": {
    "name": "ipython",
    "version": 3
   },
   "file_extension": ".py",
   "mimetype": "text/x-python",
   "name": "python",
   "nbconvert_exporter": "python",
   "pygments_lexer": "ipython3",
   "version": "3.8.8"
  }
 },
 "nbformat": 4,
 "nbformat_minor": 5
}
