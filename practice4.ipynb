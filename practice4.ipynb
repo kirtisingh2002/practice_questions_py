{
 "cells": [
  {
   "cell_type": "markdown",
   "id": "c7b7d56a",
   "metadata": {},
   "source": [
    "# string"
   ]
  },
  {
   "cell_type": "code",
   "execution_count": 1,
   "id": "2860136b",
   "metadata": {},
   "outputs": [
    {
     "name": "stdout",
     "output_type": "stream",
     "text": [
      "i\n"
     ]
    }
   ],
   "source": [
    "mystr=\"Ram is a good boy\"\n",
    "print(mystr[4])"
   ]
  },
  {
   "cell_type": "code",
   "execution_count": 2,
   "id": "ff832de9",
   "metadata": {},
   "outputs": [
    {
     "name": "stdout",
     "output_type": "stream",
     "text": [
      "Ram \n"
     ]
    }
   ],
   "source": [
    "print(mystr[0:4])"
   ]
  },
  {
   "cell_type": "code",
   "execution_count": 3,
   "id": "f16437d2",
   "metadata": {},
   "outputs": [
    {
     "data": {
      "text/plain": [
       "17"
      ]
     },
     "execution_count": 3,
     "metadata": {},
     "output_type": "execute_result"
    }
   ],
   "source": [
    "len(mystr)"
   ]
  },
  {
   "cell_type": "code",
   "execution_count": 4,
   "id": "94c2d433",
   "metadata": {},
   "outputs": [
    {
     "name": "stdout",
     "output_type": "stream",
     "text": [
      "Ram is a good boy\n"
     ]
    }
   ],
   "source": [
    "print(mystr[0:19])"
   ]
  },
  {
   "cell_type": "code",
   "execution_count": 5,
   "id": "2f186d26",
   "metadata": {},
   "outputs": [
    {
     "name": "stdout",
     "output_type": "stream",
     "text": [
      "Ram is a good boy\n"
     ]
    }
   ],
   "source": [
    "print(mystr[0:])"
   ]
  },
  {
   "cell_type": "code",
   "execution_count": 6,
   "id": "b76834d4",
   "metadata": {},
   "outputs": [
    {
     "name": "stdout",
     "output_type": "stream",
     "text": [
      "Ram\n"
     ]
    }
   ],
   "source": [
    "print(mystr[:3])"
   ]
  },
  {
   "cell_type": "code",
   "execution_count": 7,
   "id": "516e2392",
   "metadata": {},
   "outputs": [
    {
     "name": "stdout",
     "output_type": "stream",
     "text": [
      "Ram is a good boy\n"
     ]
    }
   ],
   "source": [
    "print(mystr[::])"
   ]
  },
  {
   "cell_type": "code",
   "execution_count": 8,
   "id": "b97872f8",
   "metadata": {},
   "outputs": [
    {
     "name": "stdout",
     "output_type": "stream",
     "text": [
      "Rab\n"
     ]
    }
   ],
   "source": [
    "print(mystr[0:18:7])#last digit char skip"
   ]
  },
  {
   "cell_type": "code",
   "execution_count": 9,
   "id": "e30827c7",
   "metadata": {},
   "outputs": [
    {
     "name": "stdout",
     "output_type": "stream",
     "text": [
      "R\n"
     ]
    }
   ],
   "source": [
    "print(mystr[::44447])"
   ]
  },
  {
   "cell_type": "code",
   "execution_count": 10,
   "id": "9d6fbae1",
   "metadata": {},
   "outputs": [
    {
     "name": "stdout",
     "output_type": "stream",
     "text": [
      "d boy\n"
     ]
    }
   ],
   "source": [
    "print(mystr[-5:])"
   ]
  },
  {
   "cell_type": "code",
   "execution_count": 11,
   "id": "4f887d71",
   "metadata": {},
   "outputs": [
    {
     "name": "stdout",
     "output_type": "stream",
     "text": [
      "od \n"
     ]
    }
   ],
   "source": [
    "print(mystr[-6:-3])"
   ]
  },
  {
   "cell_type": "code",
   "execution_count": 14,
   "id": "328a792e",
   "metadata": {},
   "outputs": [
    {
     "name": "stdout",
     "output_type": "stream",
     "text": [
      "hello\n"
     ]
    }
   ],
   "source": [
    "print(\"hello\")"
   ]
  },
  {
   "cell_type": "code",
   "execution_count": 15,
   "id": "33bd49de",
   "metadata": {},
   "outputs": [
    {
     "name": "stdout",
     "output_type": "stream",
     "text": [
      "is \n"
     ]
    }
   ],
   "source": [
    "print(mystr[4:7])"
   ]
  },
  {
   "cell_type": "code",
   "execution_count": 16,
   "id": "62e5b5a5",
   "metadata": {},
   "outputs": [
    {
     "name": "stdout",
     "output_type": "stream",
     "text": [
      "doog a \n"
     ]
    }
   ],
   "source": [
    "print(mystr[12:5:-1])"
   ]
  },
  {
   "cell_type": "code",
   "execution_count": 17,
   "id": "44e4b23f",
   "metadata": {},
   "outputs": [
    {
     "name": "stdout",
     "output_type": "stream",
     "text": [
      "yob doog a si mar\n"
     ]
    }
   ],
   "source": [
    "print(mystr[::-1])"
   ]
  },
  {
   "cell_type": "code",
   "execution_count": 18,
   "id": "6455cece",
   "metadata": {},
   "outputs": [
    {
     "name": "stdout",
     "output_type": "stream",
     "text": [
      "yoi\n"
     ]
    }
   ],
   "source": [
    "print(mystr[::-6])"
   ]
  },
  {
   "cell_type": "code",
   "execution_count": null,
   "id": "a5db9277",
   "metadata": {},
   "outputs": [],
   "source": [
    "#functions"
   ]
  },
  {
   "cell_type": "code",
   "execution_count": 19,
   "id": "030b6c6e",
   "metadata": {},
   "outputs": [
    {
     "name": "stdout",
     "output_type": "stream",
     "text": [
      "<class 'str'>\n"
     ]
    }
   ],
   "source": [
    "print(type(mystr))"
   ]
  },
  {
   "cell_type": "code",
   "execution_count": 20,
   "id": "992c3d2f",
   "metadata": {},
   "outputs": [
    {
     "name": "stdout",
     "output_type": "stream",
     "text": [
      "False\n"
     ]
    }
   ],
   "source": [
    "print(mystr.isalnum())#alpanumeric func that checks all char in a string(spaces) t&f(boolean variable return)"
   ]
  },
  {
   "cell_type": "code",
   "execution_count": 21,
   "id": "75642165",
   "metadata": {},
   "outputs": [
    {
     "name": "stdout",
     "output_type": "stream",
     "text": [
      "True\n"
     ]
    }
   ],
   "source": [
    "mystr=\"ramisagoodboy\"\n",
    "print(mystr.isalnum())"
   ]
  },
  {
   "cell_type": "code",
   "execution_count": 22,
   "id": "8e88e23e",
   "metadata": {},
   "outputs": [
    {
     "name": "stdout",
     "output_type": "stream",
     "text": [
      "False\n"
     ]
    }
   ],
   "source": [
    "mystr=\"ram is a good boy\" #used for str handling(no alphanumeric)\n",
    "print(mystr.isalpha())"
   ]
  },
  {
   "cell_type": "code",
   "execution_count": 24,
   "id": "e02b206b",
   "metadata": {},
   "outputs": [
    {
     "name": "stdout",
     "output_type": "stream",
     "text": [
      "True\n"
     ]
    }
   ],
   "source": [
    "print(mystr.endswith(\"boy\"))"
   ]
  },
  {
   "cell_type": "code",
   "execution_count": 25,
   "id": "b94c04bd",
   "metadata": {},
   "outputs": [
    {
     "name": "stdout",
     "output_type": "stream",
     "text": [
      "False\n"
     ]
    }
   ],
   "source": [
    "print(mystr.endswith(\"is\"))"
   ]
  },
  {
   "cell_type": "code",
   "execution_count": 26,
   "id": "8a77c6de",
   "metadata": {},
   "outputs": [
    {
     "name": "stdout",
     "output_type": "stream",
     "text": [
      "2\n"
     ]
    }
   ],
   "source": [
    "print(mystr.count(\"a\"))"
   ]
  },
  {
   "cell_type": "code",
   "execution_count": 27,
   "id": "5d59a465",
   "metadata": {},
   "outputs": [
    {
     "name": "stdout",
     "output_type": "stream",
     "text": [
      "10\n"
     ]
    }
   ],
   "source": [
    "print(mystr.find(\"o\"))"
   ]
  },
  {
   "cell_type": "code",
   "execution_count": 28,
   "id": "d337ee63",
   "metadata": {},
   "outputs": [
    {
     "name": "stdout",
     "output_type": "stream",
     "text": [
      "RAM IS A GOOD BOY\n"
     ]
    }
   ],
   "source": [
    "print(mystr.upper())"
   ]
  },
  {
   "cell_type": "code",
   "execution_count": 29,
   "id": "ebcda068",
   "metadata": {},
   "outputs": [
    {
     "name": "stdout",
     "output_type": "stream",
     "text": [
      "rahul is a good boy\n"
     ]
    }
   ],
   "source": [
    "print(mystr.replace(\"ram\" ,\"rahul\"))"
   ]
  },
  {
   "cell_type": "code",
   "execution_count": 34,
   "id": "082939d1",
   "metadata": {},
   "outputs": [
    {
     "name": "stdout",
     "output_type": "stream",
     "text": [
      "Ram is a good boy\n"
     ]
    }
   ],
   "source": [
    "print(mystr.capitalize())"
   ]
  },
  {
   "cell_type": "code",
   "execution_count": 35,
   "id": "7edbebe9",
   "metadata": {},
   "outputs": [
    {
     "name": "stdout",
     "output_type": "stream",
     "text": [
      "ram is a good boy\n"
     ]
    }
   ],
   "source": [
    "print(mystr.lower())"
   ]
  },
  {
   "cell_type": "code",
   "execution_count": null,
   "id": "aefd9022",
   "metadata": {},
   "outputs": [],
   "source": []
  }
 ],
 "metadata": {
  "kernelspec": {
   "display_name": "Python 3",
   "language": "python",
   "name": "python3"
  },
  "language_info": {
   "codemirror_mode": {
    "name": "ipython",
    "version": 3
   },
   "file_extension": ".py",
   "mimetype": "text/x-python",
   "name": "python",
   "nbconvert_exporter": "python",
   "pygments_lexer": "ipython3",
   "version": "3.8.8"
  }
 },
 "nbformat": 4,
 "nbformat_minor": 5
}
