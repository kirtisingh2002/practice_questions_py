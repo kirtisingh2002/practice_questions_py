{
 "cells": [
  {
   "cell_type": "code",
   "execution_count": 1,
   "id": "7f644015",
   "metadata": {},
   "outputs": [
    {
     "data": {
      "text/plain": [
       "11"
      ]
     },
     "execution_count": 1,
     "metadata": {},
     "output_type": "execute_result"
    }
   ],
   "source": [
    "# WAP program to calculate the lenght of a string.\n",
    "a=\"game,hockey\"\n",
    "len(a)"
   ]
  },
  {
   "cell_type": "code",
   "execution_count": 2,
   "id": "1149fb8a",
   "metadata": {},
   "outputs": [
    {
     "name": "stdout",
     "output_type": "stream",
     "text": [
      "enter the radius5\n",
      "the area is  78.5\n"
     ]
    }
   ],
   "source": [
    "#WAP program which accepts the radius of a circle from the user and compute the area.\n",
    "r=int(input(\"enter the radius\"))\n",
    "ra=3.14*(r*r)\n",
    "print(\"the area is \",ra)"
   ]
  },
  {
   "cell_type": "code",
   "execution_count": 3,
   "id": "6c4ba180",
   "metadata": {},
   "outputs": [
    {
     "data": {
      "text/plain": [
       "120"
      ]
     },
     "execution_count": 3,
     "metadata": {},
     "output_type": "execute_result"
    }
   ],
   "source": [
    "import math\n",
    "li=[2,3,4,5]\n",
    "mul=math.prod(li)\n",
    "mul"
   ]
  },
  {
   "cell_type": "code",
   "execution_count": 4,
   "id": "d16b3d7b",
   "metadata": {},
   "outputs": [
    {
     "data": {
      "text/plain": [
       "2"
      ]
     },
     "execution_count": 4,
     "metadata": {},
     "output_type": "execute_result"
    }
   ],
   "source": [
    "m=min(li)\n",
    "m"
   ]
  },
  {
   "cell_type": "code",
   "execution_count": 5,
   "id": "feb2d6fe",
   "metadata": {},
   "outputs": [
    {
     "data": {
      "text/plain": [
       "5"
      ]
     },
     "execution_count": 5,
     "metadata": {},
     "output_type": "execute_result"
    }
   ],
   "source": [
    "ma=max(li)\n",
    "ma"
   ]
  },
  {
   "cell_type": "code",
   "execution_count": 6,
   "id": "e8f8cc9f",
   "metadata": {},
   "outputs": [
    {
     "data": {
      "text/plain": [
       "False"
      ]
     },
     "execution_count": 6,
     "metadata": {},
     "output_type": "execute_result"
    }
   ],
   "source": [
    "a=[1,2,3,4,5]\n",
    "b=[6,7,8]\n",
    "\n",
    "\n",
    "def common_member(a,b):\n",
    "    a_set=set(a)\n",
    "    b_set=set(b)\n",
    "    if(a_set & b_set):\n",
    "        return True\n",
    "    else:\n",
    "        return False\n",
    "    \n",
    "\n",
    "common_member(a,b)"
   ]
  },
  {
   "cell_type": "code",
   "execution_count": 7,
   "id": "daa8c99f",
   "metadata": {},
   "outputs": [
    {
     "name": "stdout",
     "output_type": "stream",
     "text": [
      "false\n"
     ]
    }
   ],
   "source": [
    "x=[56,89,70]\n",
    "y=[60,90,85]\n",
    "xset=set(x)\n",
    "yset=set(y)\n",
    "if (xset & yset):\n",
    "    print(\"true\")\n",
    "else:\n",
    "    print(\"false\")"
   ]
  },
  {
   "cell_type": "code",
   "execution_count": 8,
   "id": "d5bf2c80",
   "metadata": {},
   "outputs": [],
   "source": [
    "li=[70,56,84,39,20,18,50]\n",
    "li.remove(70)\n",
    "li.remove(39)\n",
    "li.remove(20)"
   ]
  },
  {
   "cell_type": "code",
   "execution_count": 9,
   "id": "00d16aa9",
   "metadata": {},
   "outputs": [
    {
     "data": {
      "text/plain": [
       "[56, 84, 18, 50]"
      ]
     },
     "execution_count": 9,
     "metadata": {},
     "output_type": "execute_result"
    }
   ],
   "source": [
    "li"
   ]
  },
  {
   "cell_type": "code",
   "execution_count": 10,
   "id": "b126851e",
   "metadata": {},
   "outputs": [],
   "source": [
    "dict1={\"fruit\":\"orange\",\n",
    "       \"vegetable\":\"onion\"}\n",
    "dict2={\"game\":\"cricket\",\n",
    "       \"chocolate\":\"dairy milk\"}\n",
    "dict1.update(dict2)"
   ]
  },
  {
   "cell_type": "code",
   "execution_count": 11,
   "id": "f30d27c1",
   "metadata": {},
   "outputs": [
    {
     "data": {
      "text/plain": [
       "{'fruit': 'orange',\n",
       " 'vegetable': 'onion',\n",
       " 'game': 'cricket',\n",
       " 'chocolate': 'dairy milk'}"
      ]
     },
     "execution_count": 11,
     "metadata": {},
     "output_type": "execute_result"
    }
   ],
   "source": [
    "dict1"
   ]
  },
  {
   "cell_type": "code",
   "execution_count": 21,
   "id": "2816de01",
   "metadata": {},
   "outputs": [
    {
     "data": {
      "text/plain": [
       "'hii'"
      ]
     },
     "execution_count": 21,
     "metadata": {},
     "output_type": "execute_result"
    }
   ],
   "source": [
    "tp=(\"hii\",34,45.89,False)\n",
    "tp\n",
    "\n",
    "item=tp[-4]\n",
    "item"
   ]
  },
  {
   "cell_type": "code",
   "execution_count": 13,
   "id": "8d9fd74d",
   "metadata": {},
   "outputs": [
    {
     "data": {
      "text/plain": [
       "(34,)"
      ]
     },
     "execution_count": 13,
     "metadata": {},
     "output_type": "execute_result"
    }
   ],
   "source": [
    "tp=(34,)\n",
    "tp"
   ]
  },
  {
   "cell_type": "code",
   "execution_count": 18,
   "id": "8ec2d17f",
   "metadata": {},
   "outputs": [
    {
     "data": {
      "text/plain": [
       "'hii'"
      ]
     },
     "execution_count": 18,
     "metadata": {},
     "output_type": "execute_result"
    }
   ],
   "source": [
    "tuplex=str('hii',)\n",
    "tuplex"
   ]
  },
  {
   "cell_type": "code",
   "execution_count": null,
   "id": "63a9542e",
   "metadata": {},
   "outputs": [],
   "source": [
    "n=int(input('Enter the no. '))\n",
    "for x in range(0,n):\n",
    "    x=x+1\n",
    "    s=x+n\n",
    "print(s) \n",
    "\n",
    "\n",
    "\n"
   ]
  },
  {
   "cell_type": "code",
   "execution_count": null,
   "id": "b05f323a",
   "metadata": {},
   "outputs": [],
   "source": []
  },
  {
   "cell_type": "code",
   "execution_count": null,
   "id": "fc1bdd62",
   "metadata": {},
   "outputs": [],
   "source": []
  }
 ],
 "metadata": {
  "kernelspec": {
   "display_name": "Python 3",
   "language": "python",
   "name": "python3"
  },
  "language_info": {
   "codemirror_mode": {
    "name": "ipython",
    "version": 3
   },
   "file_extension": ".py",
   "mimetype": "text/x-python",
   "name": "python",
   "nbconvert_exporter": "python",
   "pygments_lexer": "ipython3",
   "version": "3.8.8"
  }
 },
 "nbformat": 4,
 "nbformat_minor": 5
}
